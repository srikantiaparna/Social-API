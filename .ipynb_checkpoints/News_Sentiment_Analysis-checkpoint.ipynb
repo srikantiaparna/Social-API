{
 "cells": [
  {
   "cell_type": "markdown",
   "metadata": {},
   "source": [
    "## Vader Sentiment News Analysis\n"
   ]
  },
  {
   "cell_type": "code",
   "execution_count": 1,
   "metadata": {},
   "outputs": [
    {
     "ename": "ModuleNotFoundError",
     "evalue": "No module named 'twitterapi'",
     "output_type": "error",
     "traceback": [
      "\u001b[1;31m---------------------------------------------------------------------------\u001b[0m",
      "\u001b[1;31mModuleNotFoundError\u001b[0m                       Traceback (most recent call last)",
      "\u001b[1;32m<ipython-input-1-a26d047beb0b>\u001b[0m in \u001b[0;36m<module>\u001b[1;34m()\u001b[0m\n\u001b[0;32m      8\u001b[0m \u001b[1;32mimport\u001b[0m \u001b[0mtime\u001b[0m\u001b[1;33m\u001b[0m\u001b[0m\n\u001b[0;32m      9\u001b[0m \u001b[1;33m\u001b[0m\u001b[0m\n\u001b[1;32m---> 10\u001b[1;33m \u001b[1;32mfrom\u001b[0m \u001b[0mtwitterapi\u001b[0m \u001b[1;32mimport\u001b[0m \u001b[0mconsumer_key\u001b[0m\u001b[1;33m,\u001b[0m \u001b[0mconsumer_secret\u001b[0m\u001b[1;33m,\u001b[0m \u001b[0maccess_token\u001b[0m\u001b[1;33m,\u001b[0m \u001b[0maccess_token_secret\u001b[0m\u001b[1;33m\u001b[0m\u001b[0m\n\u001b[0m\u001b[0;32m     11\u001b[0m \u001b[1;33m\u001b[0m\u001b[0m\n\u001b[0;32m     12\u001b[0m \u001b[1;32mfrom\u001b[0m \u001b[0mvaderSentiment\u001b[0m\u001b[1;33m.\u001b[0m\u001b[0mvaderSentiment\u001b[0m \u001b[1;32mimport\u001b[0m \u001b[0mSentimentIntensityAnalyzer\u001b[0m\u001b[1;33m\u001b[0m\u001b[0m\n",
      "\u001b[1;31mModuleNotFoundError\u001b[0m: No module named 'twitterapi'"
     ]
    }
   ],
   "source": [
    "import json\n",
    "import tweepy\n",
    "from datetime import datetime\n",
    "import numpy as np\n",
    "import matplotlib.pyplot as plt \n",
    "from pprint import pprint\n",
    "import pandas as pd\n",
    "import time\n",
    "\n",
    "from twitterapi import consumer_key, consumer_secret, access_token, access_token_secret\n",
    "\n",
    "from vaderSentiment.vaderSentiment import SentimentIntensityAnalyzer\n",
    "analyzer = SentimentIntensityAnalyzer()\n",
    "\n",
    "auth = tweepy.OAuthHandler(consumer_key, consumer_secret)\n",
    "auth.set_access_token(access_token, access_token_secret)\n",
    "api = tweepy.API(auth)\n"
   ]
  },
  {
   "cell_type": "code",
   "execution_count": 3,
   "metadata": {},
   "outputs": [
    {
     "ename": "NameError",
     "evalue": "name 'api' is not defined",
     "output_type": "error",
     "traceback": [
      "\u001b[1;31m---------------------------------------------------------------------------\u001b[0m",
      "\u001b[1;31mNameError\u001b[0m                                 Traceback (most recent call last)",
      "\u001b[1;32m<ipython-input-3-df1b80e03eaf>\u001b[0m in \u001b[0;36m<module>\u001b[1;34m()\u001b[0m\n\u001b[0;32m     28\u001b[0m \u001b[1;33m\u001b[0m\u001b[0m\n\u001b[0;32m     29\u001b[0m     \u001b[1;31m#Loop through the API request five times for each company\u001b[0m\u001b[1;33m\u001b[0m\u001b[1;33m\u001b[0m\u001b[0m\n\u001b[1;32m---> 30\u001b[1;33m     \u001b[1;32mfor\u001b[0m \u001b[0mpage\u001b[0m \u001b[1;32min\u001b[0m \u001b[0mtweepy\u001b[0m\u001b[1;33m.\u001b[0m\u001b[0mCursor\u001b[0m\u001b[1;33m(\u001b[0m\u001b[0mapi\u001b[0m\u001b[1;33m.\u001b[0m\u001b[0muser_timeline\u001b[0m\u001b[1;33m,\u001b[0m \u001b[0mid\u001b[0m \u001b[1;33m=\u001b[0m \u001b[0mhandle\u001b[0m\u001b[1;33m)\u001b[0m\u001b[1;33m.\u001b[0m\u001b[0mpages\u001b[0m\u001b[1;33m(\u001b[0m\u001b[1;36m5\u001b[0m\u001b[1;33m)\u001b[0m\u001b[1;33m:\u001b[0m\u001b[1;33m\u001b[0m\u001b[0m\n\u001b[0m\u001b[0;32m     31\u001b[0m         \u001b[0mpublic_tweets\u001b[0m \u001b[1;33m=\u001b[0m \u001b[0mpage\u001b[0m\u001b[1;33m\u001b[0m\u001b[0m\n\u001b[0;32m     32\u001b[0m \u001b[1;33m\u001b[0m\u001b[0m\n",
      "\u001b[1;31mNameError\u001b[0m: name 'api' is not defined"
     ]
    }
   ],
   "source": [
    "handles = [ 'BBC', 'CBS', 'CNN', 'Fox','New York Times']\n",
    "\n",
    "\n",
    "#Collects the text of each tweet\n",
    "tweets = []\n",
    "#Collects the date of each tweet\n",
    "timestamps = []\n",
    "#This is used to create a list of media company names. List will be added to the final dataframe \n",
    "newsorg = []\n",
    "#This stores all of the values of the timestamps list once they have been converted to date objects\n",
    "converted = []\n",
    "#This collects the compound sentiment score of each tweet\n",
    "compl = []\n",
    "#This collects the positive sentiment score of each tweet\n",
    "posl= []\n",
    "#This collects the neutral sentiment score of each tweet\n",
    "neul= []\n",
    "#This collects the negative sentiment score of each tweet\n",
    "negl= []\n",
    "\n",
    "#This stores the integers 1 through 100 and is used to create the first graph\n",
    "tweet_num = []\n",
    "tweet_num = np.arange(1,101)\n",
    "\n",
    "\n",
    "#Loop through each media company\n",
    "for handle in handles:\n",
    "    \n",
    "    #Loop through the API request five times for each company\n",
    "    for page in tweepy.Cursor(api.user_timeline, id = handle).pages(5):\n",
    "        public_tweets = page\n",
    "        \n",
    "        # Loop through all tweets\n",
    "        for tweet in public_tweets:\n",
    "            \n",
    "            tweets.append(tweet._json['text'])\n",
    "            timestamps.append(tweet._json[\"created_at\"])\n",
    "            newsorg.append(handle)\n",
    "        \n",
    "#Convert timestamp elements to date objects\n",
    "for time in timestamps:\n",
    "    converted_time1 = datetime.strptime(time, \"%a %b %d %H:%M:%S %z %Y\")\n",
    "    converted.append(converted_time1)\n",
    "\n",
    "\n",
    "#Perform sentiment analysis on each tweet\n",
    "for sentence in tweets:\n",
    "\n",
    "    compl.append(analyzer.polarity_scores(sentence)[\"compound\"])\n",
    "    posl.append(analyzer.polarity_scores(sentence)[\"pos\"])\n",
    "    neul.append(analyzer.polarity_scores(sentence)[\"neu\"])\n",
    "    negl.append(analyzer.polarity_scores(sentence)[\"neg\"])\n",
    "    \n",
    "#Create DF with all tweet information    \n",
    "sentiment_DF= pd.DataFrame({'Company': newsorg, 'Date':converted,'Tweets':tweets ,'Compound': compl,'Positive': posl,'Neutral': neul, 'Negative': negl})\n",
    "\n",
    "sentiment_DF.to_csv('News.csv')"
   ]
  },
  {
   "cell_type": "markdown",
   "metadata": {},
   "source": [
    "### Sentiment Analysis of Media Tweets"
   ]
  },
  {
   "cell_type": "code",
   "execution_count": 4,
   "metadata": {},
   "outputs": [
    {
     "ename": "NameError",
     "evalue": "name 'sentiment_DF' is not defined",
     "output_type": "error",
     "traceback": [
      "\u001b[1;31m---------------------------------------------------------------------------\u001b[0m",
      "\u001b[1;31mNameError\u001b[0m                                 Traceback (most recent call last)",
      "\u001b[1;32m<ipython-input-4-fdf442475db2>\u001b[0m in \u001b[0;36m<module>\u001b[1;34m()\u001b[0m\n\u001b[0;32m      1\u001b[0m \u001b[1;33m\u001b[0m\u001b[0m\n\u001b[0;32m      2\u001b[0m \u001b[1;31m#Subset dataframe into five objects, one for each company's compound sentiment scores\u001b[0m\u001b[1;33m\u001b[0m\u001b[1;33m\u001b[0m\u001b[0m\n\u001b[1;32m----> 3\u001b[1;33m \u001b[0mbbc_sent\u001b[0m \u001b[1;33m=\u001b[0m \u001b[0msentiment_DF\u001b[0m\u001b[1;33m.\u001b[0m\u001b[0mloc\u001b[0m\u001b[1;33m[\u001b[0m\u001b[0msentiment_DF\u001b[0m\u001b[1;33m.\u001b[0m\u001b[0mloc\u001b[0m\u001b[1;33m[\u001b[0m\u001b[1;33m:\u001b[0m\u001b[1;33m,\u001b[0m\u001b[1;34m'Company'\u001b[0m\u001b[1;33m]\u001b[0m \u001b[1;33m==\u001b[0m \u001b[1;34m'BBC'\u001b[0m\u001b[1;33m,\u001b[0m\u001b[1;34m'Compound'\u001b[0m\u001b[1;33m]\u001b[0m\u001b[1;33m\u001b[0m\u001b[0m\n\u001b[0m\u001b[0;32m      4\u001b[0m \u001b[0mcbs_sent\u001b[0m \u001b[1;33m=\u001b[0m \u001b[0msentiment_DF\u001b[0m\u001b[1;33m.\u001b[0m\u001b[0mloc\u001b[0m\u001b[1;33m[\u001b[0m\u001b[0msentiment_DF\u001b[0m\u001b[1;33m.\u001b[0m\u001b[0mloc\u001b[0m\u001b[1;33m[\u001b[0m\u001b[1;33m:\u001b[0m\u001b[1;33m,\u001b[0m\u001b[1;34m'Company'\u001b[0m\u001b[1;33m]\u001b[0m \u001b[1;33m==\u001b[0m \u001b[1;34m'CBS'\u001b[0m\u001b[1;33m,\u001b[0m\u001b[1;34m'Compound'\u001b[0m\u001b[1;33m]\u001b[0m\u001b[1;33m\u001b[0m\u001b[0m\n\u001b[0;32m      5\u001b[0m \u001b[0mcnn_sent\u001b[0m \u001b[1;33m=\u001b[0m \u001b[0msentiment_DF\u001b[0m\u001b[1;33m.\u001b[0m\u001b[0mloc\u001b[0m\u001b[1;33m[\u001b[0m\u001b[0msentiment_DF\u001b[0m\u001b[1;33m.\u001b[0m\u001b[0mloc\u001b[0m\u001b[1;33m[\u001b[0m\u001b[1;33m:\u001b[0m\u001b[1;33m,\u001b[0m\u001b[1;34m'Company'\u001b[0m\u001b[1;33m]\u001b[0m \u001b[1;33m==\u001b[0m \u001b[1;34m'CNN'\u001b[0m\u001b[1;33m,\u001b[0m\u001b[1;34m'Compound'\u001b[0m\u001b[1;33m]\u001b[0m\u001b[1;33m\u001b[0m\u001b[0m\n",
      "\u001b[1;31mNameError\u001b[0m: name 'sentiment_DF' is not defined"
     ]
    }
   ],
   "source": [
    "\n",
    "#Subset dataframe into five objects, one for each company's compound sentiment scores\n",
    "bbc_sent = sentiment_DF.loc[sentiment_DF.loc[:,'Company'] == 'BBC','Compound']\n",
    "cbs_sent = sentiment_DF.loc[sentiment_DF.loc[:,'Company'] == 'CBS','Compound']\n",
    "cnn_sent = sentiment_DF.loc[sentiment_DF.loc[:,'Company'] == 'CNN','Compound']\n",
    "fox_sent = sentiment_DF.loc[sentiment_DF.loc[:,'Company'] == 'Fox','Compound']\n",
    "nyt_sent = sentiment_DF.loc[sentiment_DF.loc[:,'Company'] == 'New York Times','Compound']\n",
    "\n",
    "#Scatter plot compound sentiment scores for each company\n",
    "bbc = plt.scatter(tweet_num, bbc_sent, color = 'orange', edgecolor='black')\n",
    "cbs = plt.scatter(tweet_num, cbs_sent, color = 'blue', edgecolor='black')\n",
    "cnn = plt.scatter(tweet_num, cnn_sent, color = 'red', edgecolor='black')\n",
    "fox = plt.scatter(tweet_num, fox_sent, color = 'green', edgecolor='black')\n",
    "nyt = plt.scatter(tweet_num, nyt_sent, color = 'yellow', edgecolor='black')\n",
    "\n",
    "#Flip x-axis for better presentation\n",
    "plt.xlim(101,0)\n",
    "\n",
    "plt.title('Sentiment Analysis of Media Tweets (3/23/2018)')\n",
    "plt.xlabel(\"Tweets Ago\")\n",
    "plt.ylabel(\"Tweet Polarity\")\n",
    "\n",
    "plt.legend((bbc,cbs,cnn,fox,nyt),('BBC','CBS','CNN','Fox News','NYT'), loc='center left', bbox_to_anchor=(1, 0.5))\n",
    "\n",
    "plt.savefig('Individual Tweet Analysis', bbox_inches='tight', pad_inches=0)\n",
    "\n",
    "plt.show()\n",
    "\n"
   ]
  },
  {
   "cell_type": "markdown",
   "metadata": {
    "collapsed": true
   },
   "source": [
    "### Overall Media Sentiment Based on Twitter"
   ]
  },
  {
   "cell_type": "code",
   "execution_count": 26,
   "metadata": {},
   "outputs": [
    {
     "data": {
      "image/png": "[encoded data removed]",
      "text/plain": [
       "<matplotlib.figure.Figure at 0x105a496a0>"
      ]
     },
     "metadata": {},
     "output_type": "display_data"
    }
   ],
   "source": [
    "\n",
    "#Create a bar chart of overall sentiment of each company's twitter account for last 100 tweets\n",
    "\n",
    "plt.bar(['BBC','CBS','CNN','Fox News','NYT'],[pd.Series(bbc_sent).mean(),pd.Series(cbs_sent).mean(),\n",
    "         pd.Series(cnn_sent).mean(),pd.Series(fox_sent).mean(),\n",
    "         pd.Series(nyt_sent).mean()], color = ['orange','blue','red','green', 'yellow'], edgecolor = ['black','black','black','black','black'])\n",
    "\n",
    "plt.title(\"Overall Media Sentiment Based on Twitter (3/23/2018)\")\n",
    "plt.ylabel(\"Tweet Polarity\")\n",
    "\n",
    "plt.savefig('Overall Sentiment Analysis')\n",
    "\n",
    "plt.show()\n",
    "\n"
   ]
  },
  {
   "cell_type": "markdown",
   "metadata": {},
   "source": [
    "### Extremeness of Media Sentiment"
   ]
  },
  {
   "cell_type": "code",
   "execution_count": 32,
   "metadata": {},
   "outputs": [
    {
     "data": {
      "image/png": "[encoded data removed]",
      "text/plain": [
       "<matplotlib.figure.Figure at 0x1059bb0f0>"
      ]
     },
     "metadata": {},
     "output_type": "display_data"
    }
   ],
   "source": [
    "#Create a bar chart of sum of squares of overall sentiment of each company's twitter account for last 100 tweets\n",
    "\n",
    "plt.bar(['BBC','CBS','CNN','Fox News','NYT'],[bbc_sent.apply(np.square).sum(),cbs_sent.apply(np.square).sum(),\n",
    "         cnn_sent.apply(np.square).sum(),fox_sent.apply(np.square).sum(),\n",
    "         nyt_sent.apply(np.square).sum()], color = ['orange','blue','red','green', 'yellow'], edgecolor = ['black','black','black','black','black'])\n",
    "\n",
    "plt.title(\"Extremeness of Media Sentiment Based on Twitter (3/23/2018)\")\n",
    "plt.ylabel(\"Sum of Squares Total\")\n",
    "\n",
    "plt.savefig('Overall Sentiment Analysis_SS')\n",
    "\n",
    "plt.show()"
   ]
  }
 ],
 "metadata": {
  "kernelspec": {
   "display_name": "Python 3",
   "language": "python",
   "name": "python3"
  },
  "language_info": {
   "codemirror_mode": {
    "name": "ipython",
    "version": 3
   },
   "file_extension": ".py",
   "mimetype": "text/x-python",
   "name": "python",
   "nbconvert_exporter": "python",
   "pygments_lexer": "ipython3",
   "version": "3.6.5"
  }
 },
 "nbformat": 4,
 "nbformat_minor": 2
}

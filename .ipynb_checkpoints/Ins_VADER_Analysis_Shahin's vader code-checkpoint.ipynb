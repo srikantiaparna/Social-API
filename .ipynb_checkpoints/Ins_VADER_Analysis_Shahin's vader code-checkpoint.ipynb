{
 "cells": [
  {
   "cell_type": "code",
   "execution_count": 1,
   "metadata": {
    "collapsed": true
   },
   "outputs": [],
   "source": [
    "# Import and Initialize Sentiment Analyzer\n",
    "from vaderSentiment.vaderSentiment import SentimentIntensityAnalyzer\n",
    "analyzer = SentimentIntensityAnalyzer()"
   ]
  },
  {
   "cell_type": "code",
   "execution_count": 2,
   "metadata": {
    "collapsed": true
   },
   "outputs": [],
   "source": [
    "# Sample Strings\n",
    "happy_string = \"Your humble instructor is smart, beautiful, and funny!\"\n",
    "# angry_string = (\"Ugh. I am feeling so distraught! \"\n",
    "#                 \"I hate everything. \"\n",
    "#                 \"I am mad at everyone.\")\n",
    "# happy_emoticon_string = \":-) :) :-D  ;-) :-P\"\n",
    "# angry_emoticon_string = \":-( :( D-< :'(\"\n",
    "# funny_slang_string = \"lol rofl haha\"\n",
    "# angry_slang_string = \"Sux meh grr\"\n",
    "\n",
    "# Target String Setting\n",
    "target_string = happy_string"
   ]
  },
  {
   "cell_type": "code",
   "execution_count": 3,
   "metadata": {},
   "outputs": [
    {
     "data": {
      "text/plain": [
       "{'compound': 0.8687, 'neg': 0.0, 'neu': 0.338, 'pos': 0.662}"
      ]
     },
     "execution_count": 3,
     "metadata": {},
     "output_type": "execute_result"
    }
   ],
   "source": [
    "# Run analysis\n",
    "results = analyzer.polarity_scores(target_string)\n",
    "results"
   ]
  },
  {
   "cell_type": "code",
   "execution_count": 4,
   "metadata": {
    "collapsed": true
   },
   "outputs": [],
   "source": [
    "# Run analysis\n",
    "compound = results[\"compound\"]\n",
    "pos = results[\"pos\"]\n",
    "neu = results[\"neu\"]\n",
    "neg = results[\"neg\"]"
   ]
  },
  {
   "cell_type": "code",
   "execution_count": 5,
   "metadata": {},
   "outputs": [
    {
     "name": "stdout",
     "output_type": "stream",
     "text": [
      "Your humble instructor is smart, beautiful, and funny!\n",
      "Compound Score: 0.8687\n",
      "Positive Score: 0.662\n",
      "Neutral Score: 0.338\n",
      "Negative Score:  0.0\n"
     ]
    }
   ],
   "source": [
    "# Print Analysis\n",
    "print(target_string)\n",
    "print(\"Compound Score:\", compound)\n",
    "print(\"Positive Score:\", pos)\n",
    "print(\"Neutral Score:\", neu)\n",
    "print(\"Negative Score: \", neg)"
   ]
  }
 ],
 "metadata": {
  "kernelspec": {
   "display_name": "Python 3",
   "language": "python",
   "name": "python3"
  },
  "language_info": {
   "codemirror_mode": {
    "name": "ipython",
    "version": 3
   },
   "file_extension": ".py",
   "mimetype": "text/x-python",
   "name": "python",
   "nbconvert_exporter": "python",
   "pygments_lexer": "ipython3",
   "version": "3.6.5"
  },
  "varInspector": {
   "cols": {
    "lenName": 16,
    "lenType": 16,
    "lenVar": 40
   },
   "kernels_config": {
    "python": {
     "delete_cmd_postfix": "",
     "delete_cmd_prefix": "del ",
     "library": "var_list.py",
     "varRefreshCmd": "print(var_dic_list())"
    },
    "r": {
     "delete_cmd_postfix": ") ",
     "delete_cmd_prefix": "rm(",
     "library": "var_list.r",
     "varRefreshCmd": "cat(var_dic_list()) "
    }
   },
   "types_to_exclude": [
    "module",
    "function",
    "builtin_function_or_method",
    "instance",
    "_Feature"
   ],
   "window_display": false
  }
 },
 "nbformat": 4,
 "nbformat_minor": 2
}

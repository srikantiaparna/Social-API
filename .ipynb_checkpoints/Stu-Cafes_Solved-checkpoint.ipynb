{
 "cells": [
  {
   "cell_type": "code",
   "execution_count": null,
   "metadata": {},
   "outputs": [],
   "source": [
    "import numpy as np\n",
    "import pandas as pd"
   ]
  },
  {
   "cell_type": "code",
   "execution_count": null,
   "metadata": {},
   "outputs": [],
   "source": [
    "# The statistical module used to run chi square test\n",
    "import scipy.stats as stats"
   ]
  },
  {
   "cell_type": "code",
   "execution_count": null,
   "metadata": {},
   "outputs": [],
   "source": [
    "# Observed data in a (hypothetical) survey of 6000 people # Obser \n",
    "observed = pd.Series([1500, 1350, 1600, 1550], index=[\"1\", \"2\", \"3\", \"4\"])\n",
    "\n",
    "# Create a data frame\n",
    "df = pd.DataFrame([observed]).T\n",
    "\n",
    "# Add a column whose default values are the expected values6000/4 =1500\n",
    "df[1] = 1500\n",
    "\n",
    "# Rename the columns\n",
    "df.columns = [\"observed\", \"expected\"]\n",
    "\n",
    "# View the data frame\n",
    "df"
   ]
  },
  {
   "cell_type": "code",
   "execution_count": null,
   "metadata": {},
   "outputs": [],
   "source": [
    "# With four rows, the degree of freedom is 4-1 = 3\n",
    "# With a p-value of 0.05, the confidence level is 1.00-0.05 = 0.95.\n",
    "critical_value = stats.chi2.ppf(q = 0.95, df = 3)"
   ]
  },
  {
   "cell_type": "code",
   "execution_count": null,
   "metadata": {},
   "outputs": [],
   "source": [
    "# The critical value\n",
    "critical_value"
   ]
  },
  {
   "cell_type": "code",
   "execution_count": null,
   "metadata": {},
   "outputs": [],
   "source": [
    "# Run the chi square test with stats.chisquare()\n",
    "stats.chisquare(df['observed'], df['expected'])"
   ]
  },
  {
   "cell_type": "markdown",
   "metadata": {},
   "source": [
    "# Conclusion\n",
    "Since the chi-square value of 23.3 at a confidence level of 95% exceeds the critical value of 7.8, we conclude that the differences seen in the number of visits per cafe are statistically significant."
   ]
  }
 ],
 "metadata": {
  "kernelspec": {
   "display_name": "Python 3",
   "language": "python",
   "name": "python3"
  },
  "language_info": {
   "codemirror_mode": {
    "name": "ipython",
    "version": 3
   },
   "file_extension": ".py",
   "mimetype": "text/x-python",
   "name": "python",
   "nbconvert_exporter": "python",
   "pygments_lexer": "ipython3",
   "version": "3.6.5"
  }
 },
 "nbformat": 4,
 "nbformat_minor": 2
}
